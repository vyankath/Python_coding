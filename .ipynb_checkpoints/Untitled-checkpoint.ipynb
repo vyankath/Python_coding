{
 "cells": [
  {
   "cell_type": "markdown",
   "id": "5e726b21",
   "metadata": {},
   "source": [
    "### Write a program to print every character of a string entered by the user in a new line using a loop."
   ]
  },
  {
   "cell_type": "code",
   "execution_count": 1,
   "id": "4ed9dfc2",
   "metadata": {},
   "outputs": [
    {
     "name": "stdout",
     "output_type": "stream",
     "text": [
      "m\n",
      "a\n",
      "c\n",
      "h\n",
      "i\n",
      "n\n",
      "e\n",
      " \n",
      "l\n",
      "e\n",
      "a\n",
      "r\n",
      "n\n",
      "i\n",
      "n\n",
      "g\n"
     ]
    }
   ],
   "source": [
    "string = \"machine learning\"\n",
    "for char in string:\n",
    "    print(char)"
   ]
  },
  {
   "cell_type": "markdown",
   "id": "552730b2",
   "metadata": {},
   "source": [
    "### Write a program to find the length of the string \"machine learning\" with and without using len function."
   ]
  },
  {
   "cell_type": "code",
   "execution_count": 2,
   "id": "719a0502",
   "metadata": {},
   "outputs": [
    {
     "name": "stdout",
     "output_type": "stream",
     "text": [
      "Length of a string machine learning using len() function is 16\n",
      "Length of a string machine learning without using len() function is 16\n"
     ]
    }
   ],
   "source": [
    "print(f\"Length of a string {string} using len() function is {len(string)}\")\n",
    "count = 0 \n",
    "for char in string:\n",
    "    if char:\n",
    "        count+=1\n",
    "print(f\"Length of a string {string} without using len() function is {count}\")"
   ]
  },
  {
   "cell_type": "markdown",
   "id": "e7046a8c",
   "metadata": {},
   "source": [
    "### Write a program to check if the word 'orange' is present in the \"This is orange juice\""
   ]
  },
  {
   "cell_type": "code",
   "execution_count": 3,
   "id": "febf7f55",
   "metadata": {},
   "outputs": [
    {
     "name": "stdout",
     "output_type": "stream",
     "text": [
      "Yes\n"
     ]
    }
   ],
   "source": [
    "str1 = \"This is orange juice\"\n",
    "sub_str = 'orange'\n",
    "print(\"Yes\" if sub_str in str1 else \"No\")"
   ]
  },
  {
   "cell_type": "markdown",
   "id": "46b67721",
   "metadata": {},
   "source": [
    "### Write a program to find the number of vowels, consonants, digits, and white space characters in a string."
   ]
  },
  {
   "cell_type": "code",
   "execution_count": 4,
   "id": "bcb228b8",
   "metadata": {},
   "outputs": [
    {
     "name": "stdout",
     "output_type": "stream",
     "text": [
      "Vowels :- 8, consonants :- 9, digits :- 0 and white spaces :- 3 are in given string.\n"
     ]
    }
   ],
   "source": [
    "v,c,d,w = 0,0,0,0\n",
    "for char in str1:\n",
    "    if char.lower() in ('a','e','i','o','u'):\n",
    "        v+=1\n",
    "    elif char.isdigit():\n",
    "        d+=1\n",
    "    elif char == \" \":\n",
    "        w+=1\n",
    "    else:\n",
    "        c+=1\n",
    "print(f'Vowels :- {v}, consonants :- {c}, digits :- {d} and white spaces :- {w} are in given string.')"
   ]
  },
  {
   "cell_type": "markdown",
   "id": "19effa2a",
   "metadata": {},
   "source": [
    "### Write a Python program to count Uppercase, Lowercase, special character, and numeric values in a given string."
   ]
  },
  {
   "cell_type": "code",
   "execution_count": 5,
   "id": "6fe195a0",
   "metadata": {},
   "outputs": [
    {
     "name": "stdout",
     "output_type": "stream",
     "text": [
      "Upper char :- 1, lower char :- 16, special char :- 3 and numeric values :- 0 are in given string.\n"
     ]
    }
   ],
   "source": [
    "u,l,s,n = 0,0,0,0\n",
    "for char in str1:\n",
    "    if char.islower():\n",
    "        l+=1\n",
    "    elif char.isupper():\n",
    "        u+=1\n",
    "    elif char.isnumeric():\n",
    "        n+=1\n",
    "    else:\n",
    "        s+=1\n",
    "print(f'Upper char :- {u}, lower char :- {l}, special char :- {s} and numeric values :- {n} are in given string.')"
   ]
  },
  {
   "cell_type": "markdown",
   "id": "d8fce199",
   "metadata": {},
   "source": [
    "### Write a program to make a new string with all the consonants deleted from the string \"Hello, have a good day\"."
   ]
  },
  {
   "cell_type": "code",
   "execution_count": 6,
   "id": "79bf1296",
   "metadata": {},
   "outputs": [
    {
     "name": "stdout",
     "output_type": "stream",
     "text": [
      "New string with all consonants Hll, hv  gd dy\n"
     ]
    }
   ],
   "source": [
    "str_vow = \"Hello, have a good day\"\n",
    "new_str = ''\n",
    "for char in str_vow:\n",
    "    if char.lower() in ('a','e','i','o','u'):\n",
    "        pass\n",
    "    else:\n",
    "        new_str = new_str+char\n",
    "print(f\"New string with all consonants {new_str}\")"
   ]
  },
  {
   "cell_type": "markdown",
   "id": "4f155724",
   "metadata": {},
   "source": [
    "### Write a Python program to remove the nth index character from a non-empty string."
   ]
  },
  {
   "cell_type": "code",
   "execution_count": 7,
   "id": "eca0ee98",
   "metadata": {},
   "outputs": [
    {
     "name": "stdout",
     "output_type": "stream",
     "text": [
      "9\n",
      "The nth index given by user 9 and the char is 'v' and string after removing char is Hello, hae a good day\n"
     ]
    }
   ],
   "source": [
    "nth_ind = int(input())\n",
    "nth_char = str_vow[nth_ind]\n",
    "str_remo = str_vow.replace(nth_char,'',1)\n",
    "print(f\"The nth index given by user {nth_ind} and the char is '{nth_char}' and string after removing char is {str_remo}\")"
   ]
  },
  {
   "cell_type": "markdown",
   "id": "013fa4ca",
   "metadata": {},
   "source": [
    "### Write a Python program to change a given string to a new string where the first and last characters have been exchanged."
   ]
  },
  {
   "cell_type": "code",
   "execution_count": 8,
   "id": "489d8246",
   "metadata": {},
   "outputs": [
    {
     "name": "stdout",
     "output_type": "stream",
     "text": [
      "Orignal string is Python after swapping the string nythoP\n"
     ]
    }
   ],
   "source": [
    "swpstr = \"Python\"\n",
    "first,last = swpstr[0],swpstr[-1]\n",
    "final = last + swpstr[1:-1] + first\n",
    "print(f\"Orignal string is {swpstr} after swapping the string {final}\")"
   ]
  },
  {
   "cell_type": "markdown",
   "id": "ab2eb695",
   "metadata": {},
   "source": [
    "### Write a Python program to count the occurrences of each word in a given sentence."
   ]
  },
  {
   "cell_type": "code",
   "execution_count": 9,
   "id": "90df4af0",
   "metadata": {},
   "outputs": [
    {
     "name": "stdout",
     "output_type": "stream",
     "text": [
      "'the': 3\n",
      "'cat': 2\n",
      "'chased': 1\n",
      "'up': 1\n",
      "'tree.': 1\n"
     ]
    }
   ],
   "source": [
    "sentence = \"the cat chased the cat up the tree.\"\n",
    "list_word = sentence.split()\n",
    "word_counts = {}\n",
    "for word in list_word:\n",
    "    if word in word_counts:\n",
    "        word_counts[word] += 1\n",
    "    else:\n",
    "        word_counts[word] = 1\n",
    "for word, count in word_counts.items():\n",
    "    print(f\"'{word}': {count}\")"
   ]
  },
  {
   "cell_type": "markdown",
   "id": "41a3ee12",
   "metadata": {},
   "source": [
    "### How do you count the occurrence of a given character in a string?"
   ]
  },
  {
   "cell_type": "code",
   "execution_count": 10,
   "id": "b3aa03c4",
   "metadata": {},
   "outputs": [
    {
     "name": "stdout",
     "output_type": "stream",
     "text": [
      "'l': 1\n",
      "'e': 1\n",
      "'a': 1\n",
      "'r': 1\n",
      "'n': 2\n",
      "'i': 1\n",
      "'g': 1\n"
     ]
    }
   ],
   "source": [
    "word = \"learning\"\n",
    "list_char = [char for char in word]\n",
    "char_counts = {}\n",
    "for char in list_char:\n",
    "    if char in char_counts:\n",
    "        char_counts[char] += 1\n",
    "    else:\n",
    "        char_counts[char] = 1\n",
    "for char, count in char_counts.items():\n",
    "    print(f\"'{char}': {count}\")"
   ]
  },
  {
   "cell_type": "markdown",
   "id": "43f20aeb",
   "metadata": {},
   "source": [
    "### Write a program to find last 10 characters of a string?"
   ]
  },
  {
   "cell_type": "code",
   "execution_count": 11,
   "id": "da795987",
   "metadata": {},
   "outputs": [
    {
     "name": "stdout",
     "output_type": "stream",
     "text": [
      "last 10 characters of Machine Learning are \"e Learning\"\n"
     ]
    }
   ],
   "source": [
    "string1 = 'Machine Learning'\n",
    "print(f'last 10 characters of {string1} are \"{string1[-10:]}\"')"
   ]
  },
  {
   "cell_type": "markdown",
   "id": "3dca0020",
   "metadata": {},
   "source": [
    "### WAP to convert a given string to all uppercase if it contains at least 2 uppercase characters in the first 4 characters."
   ]
  },
  {
   "cell_type": "code",
   "execution_count": 12,
   "id": "7e30e13d",
   "metadata": {},
   "outputs": [
    {
     "name": "stdout",
     "output_type": "stream",
     "text": [
      "Converted into all uppercase of Machine Learning is \"MACHINE LEARNING\"\n"
     ]
    }
   ],
   "source": [
    "uppercase_count = 0\n",
    "for char in [char for char in string1]:\n",
    "    if char.isupper():\n",
    "        uppercase_count += 1\n",
    "        \n",
    "if uppercase_count >= 2:\n",
    "    print(f'Converted into all uppercase of {string1} is \"{string1.upper()}\"')\n",
    "else:\n",
    "    print(\"Not a valid string\")"
   ]
  },
  {
   "cell_type": "markdown",
   "id": "0d321319",
   "metadata": {},
   "source": [
    "### Write a Python program to remove a newline in Python."
   ]
  },
  {
   "cell_type": "code",
   "execution_count": 13,
   "id": "ebfe0902",
   "metadata": {},
   "outputs": [
    {
     "name": "stdout",
     "output_type": "stream",
     "text": [
      "Original string: This is the first line.\n",
      "                 This is the second line.\n",
      "String with newline characters removed: This is the first line.                 This is the second line.\n"
     ]
    }
   ],
   "source": [
    "input_string = '''This is the first line.\n",
    "                 This is the second line.'''\n",
    "print(\"Original string:\",input_string)\n",
    "cleaned_string = input_string.replace(\"\\n\", \"\")\n",
    "print(\"String with newline characters removed:\",cleaned_string)"
   ]
  },
  {
   "cell_type": "markdown",
   "id": "01bf7854",
   "metadata": {},
   "source": [
    "### Write a Python program to swap commas and dots in a string ○ Sample string: \"32.054,23\" ○ Expected Output: \"32,054.23\""
   ]
  },
  {
   "cell_type": "code",
   "execution_count": 14,
   "id": "027c026d",
   "metadata": {},
   "outputs": [
    {
     "name": "stdout",
     "output_type": "stream",
     "text": [
      "Orignal string is : 32.054,23 swpped string is 32,054.23\n"
     ]
    }
   ],
   "source": [
    "Sample_string = \"32.054,23\"\n",
    "final_str = Sample_string.replace(\".\",\"*\").replace(\",\",\".\").replace(\"*\",\",\")\n",
    "print(f'Orignal string is : {Sample_string} swpped string is {final_str}')"
   ]
  },
  {
   "cell_type": "markdown",
   "id": "f8c35cf4",
   "metadata": {},
   "source": [
    "### Write a Python program to find the first repeated character in a given string"
   ]
  },
  {
   "cell_type": "code",
   "execution_count": 16,
   "id": "8d7d6084",
   "metadata": {},
   "outputs": [
    {
     "name": "stdout",
     "output_type": "stream",
     "text": [
      "The first repeated character is: e\n",
      "The first repeated character is: e\n"
     ]
    }
   ],
   "source": [
    "given_str = \"repeated\"\n",
    "for i in range(len(given_str)):\n",
    "    for j in range(i + 1, len(given_str)):\n",
    "        if given_str[i] == given_str[j]:\n",
    "            print(f\"The first repeated character is: {given_str[i]}\")\n",
    "            break"
   ]
  },
  {
   "cell_type": "markdown",
   "id": "68ca3f13",
   "metadata": {},
   "source": [
    "### Python program to Count Even and Odd numbers in a string"
   ]
  },
  {
   "cell_type": "code",
   "execution_count": 17,
   "id": "bb53a4b1",
   "metadata": {},
   "outputs": [
    {
     "name": "stdout",
     "output_type": "stream",
     "text": [
      "12python46\n",
      "Count of a even numbers in a 12python46 is 3 and odd numbers is 1\n"
     ]
    }
   ],
   "source": [
    "string = input()\n",
    "e_c,o_c= 0,0\n",
    "for char in string:\n",
    "    if char.isdigit():\n",
    "        digit = int(char)\n",
    "        if digit % 2 == 0:\n",
    "            e_c+=1\n",
    "        else:\n",
    "            o_c+=1\n",
    "print(f\"Count of a even numbers in a {string} is {e_c} and odd numbers is {o_c}\")"
   ]
  },
  {
   "cell_type": "markdown",
   "id": "803247b9",
   "metadata": {},
   "source": [
    "### How do you check if a string contains only digits?"
   ]
  },
  {
   "cell_type": "code",
   "execution_count": 18,
   "id": "9ac99dd0",
   "metadata": {},
   "outputs": [
    {
     "name": "stdout",
     "output_type": "stream",
     "text": [
      "python1\n",
      "String does not contain only digits\n"
     ]
    }
   ],
   "source": [
    "string = input()\n",
    "if string.isdigit():\n",
    "    print(\"String contains only digits\")\n",
    "else:\n",
    "    print(\"String does not contain only digits\")"
   ]
  },
  {
   "cell_type": "markdown",
   "id": "802c0941",
   "metadata": {},
   "source": [
    "### How do you remove a given character/word from String?"
   ]
  },
  {
   "cell_type": "code",
   "execution_count": 19,
   "id": "ac7638cb",
   "metadata": {},
   "outputs": [
    {
     "name": "stdout",
     "output_type": "stream",
     "text": [
      "1\n",
      "python\n"
     ]
    }
   ],
   "source": [
    "char_rem = input()\n",
    "result = string.replace(char_rem,'')\n",
    "print(result)"
   ]
  },
  {
   "cell_type": "markdown",
   "id": "4b3ef12d",
   "metadata": {},
   "source": [
    "### Write a Python program to remove the characters which have odd index values of a given string"
   ]
  },
  {
   "cell_type": "code",
   "execution_count": 25,
   "id": "4951d357",
   "metadata": {},
   "outputs": [
    {
     "name": "stdout",
     "output_type": "stream",
     "text": [
      "Given string is given string and string after removing odd index char is ie tig\n"
     ]
    }
   ],
   "source": [
    "g_string = 'given string'\n",
    "f_string =''\n",
    "for i,o_char in enumerate(g_string):\n",
    "    if i % 2 != 0:\n",
    "        f_string +=o_char\n",
    "print(f'Given string is {g_string} and string after removing odd index char is {f_string}')"
   ]
  },
  {
   "cell_type": "markdown",
   "id": "3ade6572",
   "metadata": {},
   "source": [
    "### Write a Python function to reverses a string if its length is a multiple of 5."
   ]
  },
  {
   "cell_type": "code",
   "execution_count": 40,
   "id": "617e52b8",
   "metadata": {},
   "outputs": [],
   "source": [
    "def rev_string(string):\n",
    "    if len(string) % 5 == 0:\n",
    "        #reversed_str = string[::-1]\n",
    "        reversed_str = \"\".join(reversed(string))\n",
    "        print(f'Orignal string is {string} reversed string is {reversed_str}')\n",
    "    else:\n",
    "        print('String is not in multiple of 5')\n",
    "    return \"Reversed a given string\""
   ]
  },
  {
   "cell_type": "code",
   "execution_count": 42,
   "id": "71a816d7",
   "metadata": {},
   "outputs": [
    {
     "name": "stdout",
     "output_type": "stream",
     "text": [
      "Orignal string is pytho reversed string is ohtyp\n",
      "Orignal string is Machinelearning reversed string is gninraelenihcaM\n"
     ]
    },
    {
     "data": {
      "text/plain": [
       "'Reversed a given string'"
      ]
     },
     "execution_count": 42,
     "metadata": {},
     "output_type": "execute_result"
    }
   ],
   "source": [
    "rev_string(\"pytho\")\n",
    "rev_string(\"Machinelearning\")"
   ]
  },
  {
   "cell_type": "markdown",
   "id": "d45331bd",
   "metadata": {},
   "source": [
    "### Write a Python program to format a number with a percentage(0.05 >> 5%)"
   ]
  },
  {
   "cell_type": "code",
   "execution_count": 45,
   "id": "babbf8bc",
   "metadata": {},
   "outputs": [
    {
     "name": "stdout",
     "output_type": "stream",
     "text": [
      "Formatted percentage: 2.5%\n"
     ]
    }
   ],
   "source": [
    "number = 0.025\n",
    "formatted_percentage = f\"{number:.1%}\"\n",
    "print(\"Formatted percentage:\", formatted_percentage)"
   ]
  },
  {
   "cell_type": "markdown",
   "id": "45d2b8f4",
   "metadata": {},
   "source": [
    "### Write a Python program to reverse words in a string"
   ]
  },
  {
   "cell_type": "code",
   "execution_count": 47,
   "id": "d6be2c5c",
   "metadata": {},
   "outputs": [
    {
     "name": "stdout",
     "output_type": "stream",
     "text": [
      "Given string is \"reverse words in a string\" and reversed words string is \"string a in words reverse\"\n"
     ]
    }
   ],
   "source": [
    "ip_str = 'reverse words in a string'\n",
    "words = ip_str.split()\n",
    "reverse_words_str = ' '.join(list(reversed(words)))\n",
    "print(f'Given string is \"{ip_str}\" and reversed words string is \"{reverse_words_str}\"')"
   ]
  },
  {
   "cell_type": "markdown",
   "id": "71f74c75",
   "metadata": {},
   "source": [
    "### Write a Python program to swap cases of a given string"
   ]
  },
  {
   "cell_type": "code",
   "execution_count": 49,
   "id": "b4b85bee",
   "metadata": {},
   "outputs": [
    {
     "name": "stdout",
     "output_type": "stream",
     "text": [
      "Given string is Python and swapped string is pYTHON\n"
     ]
    }
   ],
   "source": [
    "given_string = \"Python\"\n",
    "print(f'Given string is {given_string} and swapped string is {given_string.swapcase()}')"
   ]
  },
  {
   "cell_type": "markdown",
   "id": "d9b6918c",
   "metadata": {},
   "source": [
    "### Write a Python program to remove spaces from a given string"
   ]
  },
  {
   "cell_type": "code",
   "execution_count": 54,
   "id": "600f5e17",
   "metadata": {},
   "outputs": [
    {
     "name": "stdout",
     "output_type": "stream",
     "text": [
      "Given string with spaces is Python , DS , and ML   . and after removing spaces string is Python,DS,andML.\n"
     ]
    }
   ],
   "source": [
    "str_space = \"Python , DS , and ML   .\"\n",
    "print(f'Given string with spaces is {str_space} and after removing spaces string is {str_space.replace(\" \",\"\")}')"
   ]
  },
  {
   "cell_type": "markdown",
   "id": "fa22234c",
   "metadata": {},
   "source": [
    "### Write a Python program to remove duplicate characters of a given string"
   ]
  },
  {
   "cell_type": "code",
   "execution_count": 55,
   "id": "82757b77",
   "metadata": {},
   "outputs": [
    {
     "name": "stdout",
     "output_type": "stream",
     "text": [
      "Given string with is Python , DS , and ML   . and after removing duplicate char string is Python admcielrg\n"
     ]
    }
   ],
   "source": [
    "str_dup = 'Python and machine learning'\n",
    "uni_str = ''\n",
    "for charc in str_dup:\n",
    "    if charc not in uni_str:\n",
    "        uni_str+=charc\n",
    "print(f'Given string with is {str_space} and after removing duplicate char string is {uni_str}')"
   ]
  },
  {
   "cell_type": "markdown",
   "id": "7a93de0f",
   "metadata": {},
   "source": [
    "### Write a Python Program to find the area of a circle"
   ]
  },
  {
   "cell_type": "code",
   "execution_count": 65,
   "id": "df11b3e3",
   "metadata": {},
   "outputs": [
    {
     "name": "stdout",
     "output_type": "stream",
     "text": [
      "Entered radius of a circle in Cm :- 6\n",
      "Radius of a circle is 6 ad area is in cm^2 113.097\n"
     ]
    }
   ],
   "source": [
    "import math\n",
    "rad = eval(input('Entered radius of a circle in Cm :- '))\n",
    "are_cir = round((math.pi * rad**2),3)\n",
    "print(f'Radius of a circle is {rad} ad area is in cm^2 {are_cir}')"
   ]
  },
  {
   "cell_type": "markdown",
   "id": "d4ecca70",
   "metadata": {},
   "source": [
    "### Python Program to find Sum of squares of first n natural numbers"
   ]
  },
  {
   "cell_type": "code",
   "execution_count": 76,
   "id": "08665a77",
   "metadata": {},
   "outputs": [
    {
     "name": "stdout",
     "output_type": "stream",
     "text": [
      "Given first n natural numbers sre :-5\n",
      "sum of square of first 5 natural no is 55\n"
     ]
    }
   ],
   "source": [
    "n = int(input('Given first n natural numbers sre :-'))\n",
    "sum_s_n_no = 0\n",
    "for i in range(1,n+1):\n",
    "    sum_s_n_no+=i**2\n",
    "print(f'sum of square of first {n} natural no is {sum_s_n_no}')"
   ]
  },
  {
   "cell_type": "markdown",
   "id": "6708010c",
   "metadata": {},
   "source": [
    "### Python Program to find cube sum of first n natural numbers"
   ]
  },
  {
   "cell_type": "code",
   "execution_count": 77,
   "id": "5aa6ea50",
   "metadata": {},
   "outputs": [
    {
     "name": "stdout",
     "output_type": "stream",
     "text": [
      "Given first n natural numbers sre :-5\n",
      "sum of cube of first 5 natural no is 225\n"
     ]
    }
   ],
   "source": [
    "n = int(input('Given first n natural numbers sre :-'))\n",
    "sum_c_n_no = 0\n",
    "for i in range(1,n+1):\n",
    "    sum_c_n_no+=i**3\n",
    "print(f'sum of cube of first {n} natural no is {sum_c_n_no}')"
   ]
  },
  {
   "cell_type": "markdown",
   "id": "0d83db2f",
   "metadata": {},
   "source": [
    "### Python Program to find simple interest and compound interest"
   ]
  },
  {
   "cell_type": "code",
   "execution_count": 111,
   "id": "a077c9af",
   "metadata": {},
   "outputs": [
    {
     "name": "stdout",
     "output_type": "stream",
     "text": [
      "Enter the principal, rate, and time (separated by ,): 5000,3,4\n",
      "Simple Interest: 600.0\n",
      "Compound Interest: 627.54\n"
     ]
    }
   ],
   "source": [
    "def cal_sandc_inte(p, r, t):\n",
    "    simple_int = round(((p * r * t) / 100), 2)\n",
    "    comp_int = round((p * ((1 + r / 100) ** t - 1)), 2)\n",
    "    return simple_int, comp_int  \n",
    "\n",
    "inputs = list(map(float, input('Enter the principal, rate, and time (separated by ,): ').split(\",\")))\n",
    "if len(inputs) == 3:\n",
    "    principal, rate, time = inputs\n",
    "    simple_interest, compound_interest = cal_sandc_inte(principal, rate, time)\n",
    "    print(f\"Simple Interest: {simple_interest}\")\n",
    "    print(f\"Compound Interest: {compound_interest}\")\n",
    "else:\n",
    "    print(\"Please enter exactly three values.\")"
   ]
  }
 ],
 "metadata": {
  "kernelspec": {
   "display_name": "Python 3 (ipykernel)",
   "language": "python",
   "name": "python3"
  },
  "language_info": {
   "codemirror_mode": {
    "name": "ipython",
    "version": 3
   },
   "file_extension": ".py",
   "mimetype": "text/x-python",
   "name": "python",
   "nbconvert_exporter": "python",
   "pygments_lexer": "ipython3",
   "version": "3.10.1"
  },
  "varInspector": {
   "cols": {
    "lenName": 16,
    "lenType": 16,
    "lenVar": 40
   },
   "kernels_config": {
    "python": {
     "delete_cmd_postfix": "",
     "delete_cmd_prefix": "del ",
     "library": "var_list.py",
     "varRefreshCmd": "print(var_dic_list())"
    },
    "r": {
     "delete_cmd_postfix": ") ",
     "delete_cmd_prefix": "rm(",
     "library": "var_list.r",
     "varRefreshCmd": "cat(var_dic_list()) "
    }
   },
   "types_to_exclude": [
    "module",
    "function",
    "builtin_function_or_method",
    "instance",
    "_Feature"
   ],
   "window_display": false
  }
 },
 "nbformat": 4,
 "nbformat_minor": 5
}
